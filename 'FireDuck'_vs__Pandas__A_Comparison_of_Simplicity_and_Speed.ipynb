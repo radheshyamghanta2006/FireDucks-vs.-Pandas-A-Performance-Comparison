{
  "nbformat": 4,
  "nbformat_minor": 0,
  "metadata": {
    "colab": {
      "provenance": []
    },
    "kernelspec": {
      "name": "python3",
      "display_name": "Python 3"
    },
    "language_info": {
      "name": "python"
    }
  },
  "cells": [
    {
      "cell_type": "markdown",
      "source": [
        "Installation Commands (Required Libraries):"
      ],
      "metadata": {
        "id": "bcAKtlcdFtIh"
      }
    },
    {
      "cell_type": "code",
      "execution_count": 1,
      "metadata": {
        "colab": {
          "base_uri": "https://localhost:8080/"
        },
        "id": "BvzAiEe6FJzl",
        "outputId": "7515294d-fc34-40b7-ff6f-53fcc24e326b"
      },
      "outputs": [
        {
          "output_type": "stream",
          "name": "stdout",
          "text": [
            "Collecting fireducks\n",
            "  Downloading fireducks-1.2.7-cp311-cp311-manylinux_2_28_x86_64.whl.metadata (1.0 kB)\n",
            "Requirement already satisfied: pandas in /usr/local/lib/python3.11/dist-packages (2.2.2)\n",
            "Requirement already satisfied: matplotlib in /usr/local/lib/python3.11/dist-packages (3.10.0)\n",
            "Requirement already satisfied: numpy in /usr/local/lib/python3.11/dist-packages (2.0.2)\n",
            "Requirement already satisfied: duckdb in /usr/local/lib/python3.11/dist-packages (1.2.2)\n",
            "Collecting firefw==1.2.7 (from fireducks)\n",
            "  Downloading firefw-1.2.7-py3-none-any.whl.metadata (818 bytes)\n",
            "Collecting pyarrow<19.1,>=19.0 (from fireducks)\n",
            "  Downloading pyarrow-19.0.1-cp311-cp311-manylinux_2_28_x86_64.whl.metadata (3.3 kB)\n",
            "Requirement already satisfied: python-dateutil>=2.8.2 in /usr/local/lib/python3.11/dist-packages (from pandas) (2.9.0.post0)\n",
            "Requirement already satisfied: pytz>=2020.1 in /usr/local/lib/python3.11/dist-packages (from pandas) (2025.2)\n",
            "Requirement already satisfied: tzdata>=2022.7 in /usr/local/lib/python3.11/dist-packages (from pandas) (2025.2)\n",
            "Requirement already satisfied: contourpy>=1.0.1 in /usr/local/lib/python3.11/dist-packages (from matplotlib) (1.3.2)\n",
            "Requirement already satisfied: cycler>=0.10 in /usr/local/lib/python3.11/dist-packages (from matplotlib) (0.12.1)\n",
            "Requirement already satisfied: fonttools>=4.22.0 in /usr/local/lib/python3.11/dist-packages (from matplotlib) (4.57.0)\n",
            "Requirement already satisfied: kiwisolver>=1.3.1 in /usr/local/lib/python3.11/dist-packages (from matplotlib) (1.4.8)\n",
            "Requirement already satisfied: packaging>=20.0 in /usr/local/lib/python3.11/dist-packages (from matplotlib) (24.2)\n",
            "Requirement already satisfied: pillow>=8 in /usr/local/lib/python3.11/dist-packages (from matplotlib) (11.2.1)\n",
            "Requirement already satisfied: pyparsing>=2.3.1 in /usr/local/lib/python3.11/dist-packages (from matplotlib) (3.2.3)\n",
            "Requirement already satisfied: six>=1.5 in /usr/local/lib/python3.11/dist-packages (from python-dateutil>=2.8.2->pandas) (1.17.0)\n",
            "Downloading fireducks-1.2.7-cp311-cp311-manylinux_2_28_x86_64.whl (7.4 MB)\n",
            "\u001b[2K   \u001b[90m━━━━━━━━━━━━━━━━━━━━━━━━━━━━━━━━━━━━━━━━\u001b[0m \u001b[32m7.4/7.4 MB\u001b[0m \u001b[31m19.8 MB/s\u001b[0m eta \u001b[36m0:00:00\u001b[0m\n",
            "\u001b[?25hDownloading firefw-1.2.7-py3-none-any.whl (12 kB)\n",
            "Downloading pyarrow-19.0.1-cp311-cp311-manylinux_2_28_x86_64.whl (42.1 MB)\n",
            "\u001b[2K   \u001b[90m━━━━━━━━━━━━━━━━━━━━━━━━━━━━━━━━━━━━━━━━\u001b[0m \u001b[32m42.1/42.1 MB\u001b[0m \u001b[31m15.3 MB/s\u001b[0m eta \u001b[36m0:00:00\u001b[0m\n",
            "\u001b[?25hInstalling collected packages: pyarrow, firefw, fireducks\n",
            "  Attempting uninstall: pyarrow\n",
            "    Found existing installation: pyarrow 18.1.0\n",
            "    Uninstalling pyarrow-18.1.0:\n",
            "      Successfully uninstalled pyarrow-18.1.0\n",
            "Successfully installed fireducks-1.2.7 firefw-1.2.7 pyarrow-19.0.1\n"
          ]
        }
      ],
      "source": [
        "pip install fireducks pandas matplotlib numpy duckdb"
      ]
    },
    {
      "cell_type": "markdown",
      "source": [
        "Enable Benchmark Mode (FireDucks Special):"
      ],
      "metadata": {
        "id": "8BxjyQzvFiNX"
      }
    },
    {
      "cell_type": "code",
      "source": [
        "FIREDUCKS_FLAGS = \"--benchmark-mode\""
      ],
      "metadata": {
        "id": "TG_TIKyfFxOj"
      },
      "execution_count": 2,
      "outputs": []
    },
    {
      "cell_type": "markdown",
      "source": [
        "Code to Generate Large Dataset (9 Million Rows):"
      ],
      "metadata": {
        "id": "LUNVA-OLGXZf"
      }
    },
    {
      "cell_type": "code",
      "source": [
        "import pandas as pd\n",
        "import numpy as np\n",
        "\n",
        "# Create 9 Million rows\n",
        "df = pd.DataFrame({\n",
        "    'user_id': np.random.randint(1, 1_000_000, 9_000_000),\n",
        "    'amount': np.random.rand(9_000_000) * 1000,  # up to 1000\n",
        "    'category': np.random.choice(['food', 'tech', 'fashion', 'travel'], 9_000_000),\n",
        "    'timestamp': pd.date_range(start='2021-01-01', periods=9_000_000, freq='s')\n",
        "})\n",
        "\n",
        "# Save to CSV\n",
        "df.to_csv('large_dataset.csv', index=False)\n",
        "\n",
        "print(\"Dataset with 9 Million Rows Generated Successfully!\")\n"
      ],
      "metadata": {
        "colab": {
          "base_uri": "https://localhost:8080/"
        },
        "id": "u9wx0_CEGbNJ",
        "outputId": "0e513e50-bd29-454e-ad9a-bba6bc558855"
      },
      "execution_count": 3,
      "outputs": [
        {
          "output_type": "stream",
          "name": "stdout",
          "text": [
            "Dataset with 9 Million Rows Generated Successfully!\n"
          ]
        }
      ]
    },
    {
      "cell_type": "markdown",
      "source": [
        "Basic CSV Read & Filter:"
      ],
      "metadata": {
        "id": "UVPNCLe6HQLf"
      }
    },
    {
      "cell_type": "code",
      "source": [
        "import os\n",
        "import time\n",
        "\n",
        "## for Pandas\n",
        "import pandas as pd\n",
        "start_time = time.time()\n",
        "pdf = pd.read_csv('large_dataset.csv')\n",
        "print(pdf.head())\n",
        "print(\"Pandas Read Time:\", time.time() - start_time)\n",
        "\n",
        "## for FireDucks\n",
        "import fireducks.pandas as fd\n",
        "start_time = time.time()\n",
        "fdf = fd.read_csv('large_dataset.csv')\n",
        "print(fdf.head())\n",
        "print(\"FireDucks Read Time:\", time.time() - start_time)"
      ],
      "metadata": {
        "colab": {
          "base_uri": "https://localhost:8080/"
        },
        "id": "pw3IJSAwHQ7x",
        "outputId": "5a1177a9-41eb-4726-969d-3343b0b6f2b5"
      },
      "execution_count": 4,
      "outputs": [
        {
          "output_type": "stream",
          "name": "stdout",
          "text": [
            "   user_id      amount category            timestamp\n",
            "0   143942  803.452388   travel  2021-01-01 00:00:00\n",
            "1   945426  879.413229     food  2021-01-01 00:00:01\n",
            "2   164983  312.269480   travel  2021-01-01 00:00:02\n",
            "3   577122  860.639913     food  2021-01-01 00:00:03\n",
            "4   643526  585.436839     food  2021-01-01 00:00:04\n",
            "Pandas Read Time: 13.091675996780396\n",
            "   user_id      amount category            timestamp\n",
            "0   143942  803.452388   travel  2021-01-01 00:00:00\n",
            "1   945426  879.413229     food  2021-01-01 00:00:01\n",
            "2   164983  312.269480   travel  2021-01-01 00:00:02\n",
            "3   577122  860.639913     food  2021-01-01 00:00:03\n",
            "4   643526  585.436839     food  2021-01-01 00:00:04\n",
            "FireDucks Read Time: 2.8946034908294678\n"
          ]
        }
      ]
    },
    {
      "cell_type": "markdown",
      "source": [
        "GroupBy Category (Average amount):"
      ],
      "metadata": {
        "id": "DoveMxsqHqOf"
      }
    },
    {
      "cell_type": "code",
      "source": [
        "## for Pandas\n",
        "start = time.time()\n",
        "pdf_grouped = pdf.groupby('category')['amount'].mean().reset_index()\n",
        "print(pdf_grouped)\n",
        "print(\"Pandas GroupBy Time:\", time.time() - start)\n",
        "\n",
        "## for FireDucks\n",
        "start = time.time()\n",
        "fdf_grouped = fdf.groupby('category')['amount'].mean().reset_index()\n",
        "print(fdf_grouped)\n",
        "print(\"FireDucks GroupBy Time:\", time.time() - start)\n"
      ],
      "metadata": {
        "colab": {
          "base_uri": "https://localhost:8080/"
        },
        "id": "pYkpv9QMH-uW",
        "outputId": "df2659bc-5114-41c5-dfb3-bde5e2126f5b"
      },
      "execution_count": 5,
      "outputs": [
        {
          "output_type": "stream",
          "name": "stdout",
          "text": [
            "  category      amount\n",
            "0  fashion  499.902278\n",
            "1     food  499.486349\n",
            "2     tech  500.201836\n",
            "3   travel  499.891362\n",
            "Pandas GroupBy Time: 0.7787330150604248\n",
            "  category      amount\n",
            "0  fashion  499.902278\n",
            "1     food  499.486349\n",
            "2     tech  500.201836\n",
            "3   travel  499.891362\n",
            "FireDucks GroupBy Time: 0.25318288803100586\n"
          ]
        }
      ]
    },
    {
      "cell_type": "markdown",
      "source": [
        "Filter + GroupBy (amount > 600 → Avg amount per category):"
      ],
      "metadata": {
        "id": "cdVUCwlUIN5C"
      }
    },
    {
      "cell_type": "code",
      "source": [
        "import time\n",
        "\n",
        "## for Pandas\n",
        "start = time.time()\n",
        "pdf_result = pdf[pdf['amount'] > 600].groupby('category')['amount'].mean().reset_index()\n",
        "print(pdf_result)\n",
        "print(\"Pandas Filter + GroupBy Time:\", time.time() - start)\n",
        "\n",
        "## for FireDucks\n",
        "start = time.time()\n",
        "fdf_result = fdf[fdf['amount'] > 600].groupby('category')['amount'].mean().reset_index()\n",
        "print(fdf_result)\n",
        "print(\"FireDucks Filter + GroupBy Time:\", time.time() - start)\n"
      ],
      "metadata": {
        "colab": {
          "base_uri": "https://localhost:8080/"
        },
        "id": "enAwwe-DIVE0",
        "outputId": "c56fd8ab-bfdb-4aa1-da19-e53e7c37c4cf"
      },
      "execution_count": 6,
      "outputs": [
        {
          "output_type": "stream",
          "name": "stdout",
          "text": [
            "  category      amount\n",
            "0  fashion  800.016996\n",
            "1     food  800.043553\n",
            "2     tech  799.735398\n",
            "3   travel  799.981013\n",
            "Pandas Filter + GroupBy Time: 0.7826635837554932\n",
            "  category      amount\n",
            "0  fashion  800.016996\n",
            "1     food  800.043553\n",
            "2     tech  799.735398\n",
            "3   travel  799.981013\n",
            "FireDucks Filter + GroupBy Time: 0.20496678352355957\n"
          ]
        }
      ]
    },
    {
      "cell_type": "markdown",
      "source": [
        "Sort by amount (Descending):"
      ],
      "metadata": {
        "id": "N8_ROMfAIqVC"
      }
    },
    {
      "cell_type": "code",
      "source": [
        "## for Pandas\n",
        "start = time.time()\n",
        "pdf_sorted = pdf.sort_values('amount', ascending=False).groupby('category').head(5)\n",
        "print(\"Pandas Sort Time:\", time.time() - start)\n",
        "\n",
        "## for FireDucks\n",
        "start = time.time()\n",
        "fdf_sorted = fdf.sort_values('amount', ascending=False).groupby('category').head(5)\n",
        "print(\"FireDucks Sort Time:\", time.time() - start)"
      ],
      "metadata": {
        "colab": {
          "base_uri": "https://localhost:8080/"
        },
        "id": "-4wMZfTxI1Pz",
        "outputId": "2dd511f5-5fc3-4d44-8dd7-1c539493e6e9"
      },
      "execution_count": 7,
      "outputs": [
        {
          "output_type": "stream",
          "name": "stdout",
          "text": [
            "Pandas Sort Time: 9.183489322662354\n",
            "FireDucks Sort Time: 0.0013239383697509766\n"
          ]
        }
      ]
    },
    {
      "cell_type": "markdown",
      "source": [
        "Performance Comparison: Pandas vs FireDucks (Bar Chart):"
      ],
      "metadata": {
        "id": "xELXksdsJD6_"
      }
    },
    {
      "cell_type": "code",
      "source": [
        "import matplotlib.pyplot as plt\n",
        "\n",
        "# Operation Names\n",
        "operations = ['CSV Read + Filter', 'GroupBy', 'Filter + GroupBy', 'Sort']\n",
        "\n",
        "# Execution Times (in seconds)\n",
        "pandas_times = [13.09, 0.77, 0.78, 9.18]      # Pandas Times\n",
        "fireducks_times = [2.89, 0.25, 0.20, 0.001]     # FireDucks Times\n",
        "\n",
        "x = range(len(operations))\n",
        "\n",
        "plt.figure(figsize=(10, 6))\n",
        "plt.bar(x, pandas_times, width=0.35, label='Pandas', color='red')\n",
        "plt.bar([i + 0.35 for i in x], fireducks_times, width=0.35, label='FireDucks', color='green')\n",
        "\n",
        "plt.xlabel('Operations')\n",
        "plt.ylabel('Execution Time (seconds)')\n",
        "plt.title('Pandas vs FireDucks - Benchmark Results')\n",
        "plt.xticks([i + 0.175 for i in x], operations, rotation=15)\n",
        "plt.legend()\n",
        "plt.grid(axis='y', linestyle='--', alpha=0.7)\n",
        "\n",
        "plt.tight_layout()\n",
        "plt.show()"
      ],
      "metadata": {
        "colab": {
          "base_uri": "https://localhost:8080/",
          "height": 607
        },
        "id": "8dIteb-0JGyU",
        "outputId": "3a9a2829-58b5-4033-a9d5-b0e7f584cf6b"
      },
      "execution_count": 2,
      "outputs": [
        {
          "output_type": "display_data",
          "data": {
            "text/plain": [
              "<Figure size 1000x600 with 1 Axes>"
            ],
            "image/png": "[encoded data removed]"
          },
          "metadata": {}
        }
      ]
    }
  ]
}